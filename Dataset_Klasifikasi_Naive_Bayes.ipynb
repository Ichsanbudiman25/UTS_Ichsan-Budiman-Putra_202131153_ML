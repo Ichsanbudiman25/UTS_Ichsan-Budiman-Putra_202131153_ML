{
 "cells": [
  {
   "cell_type": "code",
   "execution_count": 20,
   "id": "cfa1807d",
   "metadata": {},
   "outputs": [],
   "source": [
    "import pandas as pd\n",
    "\n",
    "df = pd.read_csv('K03_counter_strike_2.csv')"
   ]
  },
  {
   "cell_type": "code",
   "execution_count": 21,
   "id": "3cc26f9f",
   "metadata": {},
   "outputs": [
    {
     "name": "stdout",
     "output_type": "stream",
     "text": [
      "<class 'pandas.core.frame.DataFrame'>\n",
      "RangeIndex: 2000 entries, 0 to 1999\n",
      "Data columns (total 14 columns):\n",
      " #   Column        Non-Null Count  Dtype  \n",
      "---  ------        --------------  -----  \n",
      " 0   time_left     2000 non-null   float64\n",
      " 1   ct_score      2000 non-null   float64\n",
      " 2   t_score       2000 non-null   float64\n",
      " 3   map           2000 non-null   object \n",
      " 4   bomb_planted  2000 non-null   bool   \n",
      " 5   ct_health     2000 non-null   float64\n",
      " 6   t_health      2000 non-null   float64\n",
      " 7   ct_armor      2000 non-null   float64\n",
      " 8   t_armor       2000 non-null   float64\n",
      " 9   ct_money      2000 non-null   float64\n",
      " 10  t_money       2000 non-null   float64\n",
      " 11  ct_helmets    2000 non-null   float64\n",
      " 12  t_helmets     2000 non-null   float64\n",
      " 13  round_winner  2000 non-null   object \n",
      "dtypes: bool(1), float64(11), object(2)\n",
      "memory usage: 205.2+ KB\n",
      "None\n",
      "         time_left     ct_score     t_score    ct_health     t_health  \\\n",
      "count  2000.000000  2000.000000  2000.00000  2000.000000  2000.000000   \n",
      "mean     95.630205     6.840000     6.28850   406.170500   402.987500   \n",
      "std      53.734491     4.233599     4.19059   137.616258   137.699186   \n",
      "min       0.050000     0.000000     0.00000     2.000000     0.000000   \n",
      "25%      54.910000     3.000000     3.00000   315.750000   328.750000   \n",
      "50%      94.910000     7.000000     6.00000   500.000000   500.000000   \n",
      "75%     156.425000    10.000000    10.00000   500.000000   500.000000   \n",
      "max     175.000000    15.000000    15.00000   500.000000   500.000000   \n",
      "\n",
      "          ct_armor     t_armor      ct_money       t_money   ct_helmets  \\\n",
      "count  2000.000000  2000.00000   2000.000000   2000.000000  2000.000000   \n",
      "mean    306.749000   309.54450   7867.350000  12377.600000     1.821500   \n",
      "std     172.857221   168.68957   9017.491838  12209.581798     1.774884   \n",
      "min       0.000000     0.00000      0.000000      0.000000     0.000000   \n",
      "25%     188.000000   190.00000   1200.000000   1700.000000     0.000000   \n",
      "50%     300.000000   362.00000   4000.000000   9075.000000     1.000000   \n",
      "75%     488.000000   467.00000  11762.500000  19250.000000     3.000000   \n",
      "max     500.000000   500.00000  58050.000000  67700.000000     5.000000   \n",
      "\n",
      "         t_helmets  \n",
      "count  2000.000000  \n",
      "mean      3.009500  \n",
      "std       1.960952  \n",
      "min       0.000000  \n",
      "25%       1.000000  \n",
      "50%       4.000000  \n",
      "75%       5.000000  \n",
      "max       5.000000  \n"
     ]
    }
   ],
   "source": [
    "print(df.info())\n",
    "print(df.describe())"
   ]
  },
  {
   "cell_type": "code",
   "execution_count": 22,
   "id": "793b36bc",
   "metadata": {},
   "outputs": [],
   "source": [
    "# Pilih kolom-kolom numerik\n",
    "numeric_columns = ['time_left', 'ct_score', 't_score', 'ct_health', 't_health', 'ct_armor', 't_armor', 'ct_money', 't_money', 'ct_helmets', 't_helmets']\n",
    "\n",
    "# Isi nilai yang hilang dengan rata-rata kolom untuk kolom-kolom numerik\n",
    "df[numeric_columns] = df[numeric_columns].fillna(df[numeric_columns].mean())\n"
   ]
  },
  {
   "cell_type": "code",
   "execution_count": 23,
   "id": "3297daaf",
   "metadata": {},
   "outputs": [
    {
     "name": "stdout",
     "output_type": "stream",
     "text": [
      "<class 'pandas.core.frame.DataFrame'>\n",
      "RangeIndex: 2000 entries, 0 to 1999\n",
      "Data columns (total 13 columns):\n",
      " #   Column        Non-Null Count  Dtype  \n",
      "---  ------        --------------  -----  \n",
      " 0   time_left     2000 non-null   float64\n",
      " 1   ct_score      2000 non-null   float64\n",
      " 2   t_score       2000 non-null   float64\n",
      " 3   map           2000 non-null   object \n",
      " 4   bomb_planted  2000 non-null   bool   \n",
      " 5   ct_health     2000 non-null   float64\n",
      " 6   t_health      2000 non-null   float64\n",
      " 7   ct_armor      2000 non-null   float64\n",
      " 8   t_armor       2000 non-null   float64\n",
      " 9   ct_money      2000 non-null   float64\n",
      " 10  t_money       2000 non-null   float64\n",
      " 11  ct_helmets    2000 non-null   float64\n",
      " 12  t_helmets     2000 non-null   float64\n",
      "dtypes: bool(1), float64(11), object(1)\n",
      "memory usage: 189.6+ KB\n"
     ]
    }
   ],
   "source": [
    "# Misalnya, jika kolom target adalah 'round_winner'\n",
    "X = df.drop('round_winner', axis=1)\n",
    "y = df['round_winner']\n",
    "X.info()"
   ]
  },
  {
   "cell_type": "code",
   "execution_count": 24,
   "id": "59cdfc0f",
   "metadata": {},
   "outputs": [],
   "source": [
    "from sklearn.naive_bayes import GaussianNB\n",
    "from sklearn.model_selection import train_test_split\n",
    "from sklearn.metrics import accuracy_score"
   ]
  },
  {
   "cell_type": "code",
   "execution_count": 25,
   "id": "2ec8c302",
   "metadata": {},
   "outputs": [],
   "source": [
    "from sklearn.model_selection import train_test_split\n",
    "\n",
    "X_train, X_test, y_train, y_test = train_test_split(X, y, test_size=0.2, random_state=42)\n"
   ]
  },
  {
   "cell_type": "code",
   "execution_count": 26,
   "id": "c47cd80c",
   "metadata": {},
   "outputs": [],
   "source": [
    "from sklearn.preprocessing import LabelEncoder\n",
    "\n",
    "encode = LabelEncoder()\n",
    "for col in X_train:\n",
    "    if X_train[col].dtype == 'object':\n",
    "        X_train[col] = encode.fit_transform(X_train[col])\n",
    "        X_test[col] = encode.fit_transform(X_test[col])"
   ]
  },
  {
   "cell_type": "code",
   "execution_count": 27,
   "id": "c6419ea1",
   "metadata": {},
   "outputs": [
    {
     "data": {
      "text/html": [
       "<style>#sk-container-id-2 {color: black;}#sk-container-id-2 pre{padding: 0;}#sk-container-id-2 div.sk-toggleable {background-color: white;}#sk-container-id-2 label.sk-toggleable__label {cursor: pointer;display: block;width: 100%;margin-bottom: 0;padding: 0.3em;box-sizing: border-box;text-align: center;}#sk-container-id-2 label.sk-toggleable__label-arrow:before {content: \"▸\";float: left;margin-right: 0.25em;color: #696969;}#sk-container-id-2 label.sk-toggleable__label-arrow:hover:before {color: black;}#sk-container-id-2 div.sk-estimator:hover label.sk-toggleable__label-arrow:before {color: black;}#sk-container-id-2 div.sk-toggleable__content {max-height: 0;max-width: 0;overflow: hidden;text-align: left;background-color: #f0f8ff;}#sk-container-id-2 div.sk-toggleable__content pre {margin: 0.2em;color: black;border-radius: 0.25em;background-color: #f0f8ff;}#sk-container-id-2 input.sk-toggleable__control:checked~div.sk-toggleable__content {max-height: 200px;max-width: 100%;overflow: auto;}#sk-container-id-2 input.sk-toggleable__control:checked~label.sk-toggleable__label-arrow:before {content: \"▾\";}#sk-container-id-2 div.sk-estimator input.sk-toggleable__control:checked~label.sk-toggleable__label {background-color: #d4ebff;}#sk-container-id-2 div.sk-label input.sk-toggleable__control:checked~label.sk-toggleable__label {background-color: #d4ebff;}#sk-container-id-2 input.sk-hidden--visually {border: 0;clip: rect(1px 1px 1px 1px);clip: rect(1px, 1px, 1px, 1px);height: 1px;margin: -1px;overflow: hidden;padding: 0;position: absolute;width: 1px;}#sk-container-id-2 div.sk-estimator {font-family: monospace;background-color: #f0f8ff;border: 1px dotted black;border-radius: 0.25em;box-sizing: border-box;margin-bottom: 0.5em;}#sk-container-id-2 div.sk-estimator:hover {background-color: #d4ebff;}#sk-container-id-2 div.sk-parallel-item::after {content: \"\";width: 100%;border-bottom: 1px solid gray;flex-grow: 1;}#sk-container-id-2 div.sk-label:hover label.sk-toggleable__label {background-color: #d4ebff;}#sk-container-id-2 div.sk-serial::before {content: \"\";position: absolute;border-left: 1px solid gray;box-sizing: border-box;top: 0;bottom: 0;left: 50%;z-index: 0;}#sk-container-id-2 div.sk-serial {display: flex;flex-direction: column;align-items: center;background-color: white;padding-right: 0.2em;padding-left: 0.2em;position: relative;}#sk-container-id-2 div.sk-item {position: relative;z-index: 1;}#sk-container-id-2 div.sk-parallel {display: flex;align-items: stretch;justify-content: center;background-color: white;position: relative;}#sk-container-id-2 div.sk-item::before, #sk-container-id-2 div.sk-parallel-item::before {content: \"\";position: absolute;border-left: 1px solid gray;box-sizing: border-box;top: 0;bottom: 0;left: 50%;z-index: -1;}#sk-container-id-2 div.sk-parallel-item {display: flex;flex-direction: column;z-index: 1;position: relative;background-color: white;}#sk-container-id-2 div.sk-parallel-item:first-child::after {align-self: flex-end;width: 50%;}#sk-container-id-2 div.sk-parallel-item:last-child::after {align-self: flex-start;width: 50%;}#sk-container-id-2 div.sk-parallel-item:only-child::after {width: 0;}#sk-container-id-2 div.sk-dashed-wrapped {border: 1px dashed gray;margin: 0 0.4em 0.5em 0.4em;box-sizing: border-box;padding-bottom: 0.4em;background-color: white;}#sk-container-id-2 div.sk-label label {font-family: monospace;font-weight: bold;display: inline-block;line-height: 1.2em;}#sk-container-id-2 div.sk-label-container {text-align: center;}#sk-container-id-2 div.sk-container {/* jupyter's `normalize.less` sets `[hidden] { display: none; }` but bootstrap.min.css set `[hidden] { display: none !important; }` so we also need the `!important` here to be able to override the default hidden behavior on the sphinx rendered scikit-learn.org. See: https://github.com/scikit-learn/scikit-learn/issues/21755 */display: inline-block !important;position: relative;}#sk-container-id-2 div.sk-text-repr-fallback {display: none;}</style><div id=\"sk-container-id-2\" class=\"sk-top-container\"><div class=\"sk-text-repr-fallback\"><pre>GaussianNB()</pre><b>In a Jupyter environment, please rerun this cell to show the HTML representation or trust the notebook. <br />On GitHub, the HTML representation is unable to render, please try loading this page with nbviewer.org.</b></div><div class=\"sk-container\" hidden><div class=\"sk-item\"><div class=\"sk-estimator sk-toggleable\"><input class=\"sk-toggleable__control sk-hidden--visually\" id=\"sk-estimator-id-2\" type=\"checkbox\" checked><label for=\"sk-estimator-id-2\" class=\"sk-toggleable__label sk-toggleable__label-arrow\">GaussianNB</label><div class=\"sk-toggleable__content\"><pre>GaussianNB()</pre></div></div></div></div></div>"
      ],
      "text/plain": [
       "GaussianNB()"
      ]
     },
     "execution_count": 27,
     "metadata": {},
     "output_type": "execute_result"
    }
   ],
   "source": [
    "# Membuat dan melatih model\n",
    "model = GaussianNB()\n",
    "model.fit(X_train, y_train)"
   ]
  },
  {
   "cell_type": "code",
   "execution_count": 28,
   "id": "53b014b5",
   "metadata": {},
   "outputs": [],
   "source": [
    "y_pred = model.predict(X_test)\n"
   ]
  },
  {
   "cell_type": "code",
   "execution_count": 29,
   "id": "81da1cf0",
   "metadata": {},
   "outputs": [
    {
     "name": "stdout",
     "output_type": "stream",
     "text": [
      "Accuracy: 74.75%\n"
     ]
    }
   ],
   "source": [
    "accuracy = accuracy_score(y_test, y_pred)\n",
    "print(f'Accuracy: {accuracy *100}%')\n"
   ]
  },
  {
   "cell_type": "code",
   "execution_count": 30,
   "id": "e7498637",
   "metadata": {},
   "outputs": [],
   "source": [
    "#Model Naive Bayes yang Anda latih mencapai akurasi sekitar 74.5% pada set data pengujian."
   ]
  }
 ],
 "metadata": {
  "kernelspec": {
   "display_name": "Python 3 (ipykernel)",
   "language": "python",
   "name": "python3"
  },
  "language_info": {
   "codemirror_mode": {
    "name": "ipython",
    "version": 3
   },
   "file_extension": ".py",
   "mimetype": "text/x-python",
   "name": "python",
   "nbconvert_exporter": "python",
   "pygments_lexer": "ipython3",
   "version": "3.9.13"
  }
 },
 "nbformat": 4,
 "nbformat_minor": 5
}
